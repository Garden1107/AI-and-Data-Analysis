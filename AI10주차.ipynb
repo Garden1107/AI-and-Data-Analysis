{
  "nbformat": 4,
  "nbformat_minor": 0,
  "metadata": {
    "colab": {
      "provenance": [],
      "authorship_tag": "ABX9TyOxENojCOmw8NyqAm2vjDDF",
      "include_colab_link": true
    },
    "kernelspec": {
      "name": "python3",
      "display_name": "Python 3"
    },
    "language_info": {
      "name": "python"
    }
  },
  "cells": [
    {
      "cell_type": "markdown",
      "metadata": {
        "id": "view-in-github",
        "colab_type": "text"
      },
      "source": [
        "<a href=\"https://colab.research.google.com/github/Garden1107/AI-and-Data-Analysis/blob/main/AI10%EC%A3%BC%EC%B0%A8.ipynb\" target=\"_parent\"><img src=\"https://colab.research.google.com/assets/colab-badge.svg\" alt=\"Open In Colab\"/></a>"
      ]
    },
    {
      "cell_type": "code",
      "execution_count": null,
      "metadata": {
        "id": "VyT8tvN-JEQm"
      },
      "outputs": [],
      "source": [
        "#파일을 이용해서 마커를 찍을 예정/ 일일히 못찍으니까."
      ]
    },
    {
      "cell_type": "code",
      "source": [
        "import pandas as pd\n",
        "import folium"
      ],
      "metadata": {
        "id": "_Jh2XFLIJaeT"
      },
      "execution_count": null,
      "outputs": []
    },
    {
      "cell_type": "code",
      "source": [
        "#마커를 만들기위해 위도 경도가 쓰여진 파일\n",
        "df = pd.read_excel('/content/서울시 반려견 놀이터(위도경도포함).xlsx')"
      ],
      "metadata": {
        "id": "FIH_XOBuMfmE"
      },
      "execution_count": null,
      "outputs": []
    },
    {
      "cell_type": "code",
      "source": [
        "#맵만들기\n",
        "map = folium.Map(location=[37.4966,126.957], zoom_start=13)   #숭실대학교 위도, 경도, 초기 화면 확대정도"
      ],
      "metadata": {
        "id": "OPxe2NR3MnS7"
      },
      "execution_count": null,
      "outputs": []
    },
    {
      "cell_type": "code",
      "source": [
        "folium.Marker(location=[37.4966,126.957])"
      ],
      "metadata": {
        "colab": {
          "base_uri": "https://localhost:8080/"
        },
        "id": "v-i1ntJpM-aV",
        "outputId": "45d73b59-a55a-4f1e-f8c2-658981bf30d1"
      },
      "execution_count": null,
      "outputs": [
        {
          "output_type": "execute_result",
          "data": {
            "text/plain": [
              "<folium.map.Marker at 0x7fab32ab8610>"
            ]
          },
          "metadata": {},
          "execution_count": 5
        }
      ]
    },
    {
      "cell_type": "code",
      "source": [
        "map"
      ],
      "metadata": {
        "colab": {
          "base_uri": "https://localhost:8080/",
          "height": 866
        },
        "id": "02ErZX-gNsF0",
        "outputId": "07eb879f-398e-452e-f195-306ea2a4900b"
      },
      "execution_count": null,
      "outputs": [
        {
          "output_type": "execute_result",
          "data": {
            "text/plain": [
              "<folium.folium.Map at 0x7fab31f93940>"
            ],
            "text/html": [
              "<div style=\"width:100%;\"><div style=\"position:relative;width:100%;height:0;padding-bottom:60%;\"><span style=\"color:#565656\">Make this Notebook Trusted to load map: File -> Trust Notebook</span><iframe srcdoc=\"&lt;!DOCTYPE html&gt;\n",
              "&lt;html&gt;\n",
              "&lt;head&gt;\n",
              "    \n",
              "    &lt;meta http-equiv=&quot;content-type&quot; content=&quot;text/html; charset=UTF-8&quot; /&gt;\n",
              "    \n",
              "        &lt;script&gt;\n",
              "            L_NO_TOUCH = false;\n",
              "            L_DISABLE_3D = false;\n",
              "        &lt;/script&gt;\n",
              "    \n",
              "    &lt;style&gt;html, body {width: 100%;height: 100%;margin: 0;padding: 0;}&lt;/style&gt;\n",
              "    &lt;style&gt;#map {position:absolute;top:0;bottom:0;right:0;left:0;}&lt;/style&gt;\n",
              "    &lt;script src=&quot;https://cdn.jsdelivr.net/npm/leaflet@1.9.3/dist/leaflet.js&quot;&gt;&lt;/script&gt;\n",
              "    &lt;script src=&quot;https://code.jquery.com/jquery-1.12.4.min.js&quot;&gt;&lt;/script&gt;\n",
              "    &lt;script src=&quot;https://cdn.jsdelivr.net/npm/bootstrap@5.2.2/dist/js/bootstrap.bundle.min.js&quot;&gt;&lt;/script&gt;\n",
              "    &lt;script src=&quot;https://cdnjs.cloudflare.com/ajax/libs/Leaflet.awesome-markers/2.0.2/leaflet.awesome-markers.js&quot;&gt;&lt;/script&gt;\n",
              "    &lt;link rel=&quot;stylesheet&quot; href=&quot;https://cdn.jsdelivr.net/npm/leaflet@1.9.3/dist/leaflet.css&quot;/&gt;\n",
              "    &lt;link rel=&quot;stylesheet&quot; href=&quot;https://cdn.jsdelivr.net/npm/bootstrap@5.2.2/dist/css/bootstrap.min.css&quot;/&gt;\n",
              "    &lt;link rel=&quot;stylesheet&quot; href=&quot;https://netdna.bootstrapcdn.com/bootstrap/3.0.0/css/bootstrap.min.css&quot;/&gt;\n",
              "    &lt;link rel=&quot;stylesheet&quot; href=&quot;https://cdn.jsdelivr.net/npm/@fortawesome/fontawesome-free@6.2.0/css/all.min.css&quot;/&gt;\n",
              "    &lt;link rel=&quot;stylesheet&quot; href=&quot;https://cdnjs.cloudflare.com/ajax/libs/Leaflet.awesome-markers/2.0.2/leaflet.awesome-markers.css&quot;/&gt;\n",
              "    &lt;link rel=&quot;stylesheet&quot; href=&quot;https://cdn.jsdelivr.net/gh/python-visualization/folium/folium/templates/leaflet.awesome.rotate.min.css&quot;/&gt;\n",
              "    \n",
              "            &lt;meta name=&quot;viewport&quot; content=&quot;width=device-width,\n",
              "                initial-scale=1.0, maximum-scale=1.0, user-scalable=no&quot; /&gt;\n",
              "            &lt;style&gt;\n",
              "                #map_d18c1394c592c5453990a0aade33ab14 {\n",
              "                    position: relative;\n",
              "                    width: 100.0%;\n",
              "                    height: 100.0%;\n",
              "                    left: 0.0%;\n",
              "                    top: 0.0%;\n",
              "                }\n",
              "                .leaflet-container { font-size: 1rem; }\n",
              "            &lt;/style&gt;\n",
              "        \n",
              "&lt;/head&gt;\n",
              "&lt;body&gt;\n",
              "    \n",
              "    \n",
              "            &lt;div class=&quot;folium-map&quot; id=&quot;map_d18c1394c592c5453990a0aade33ab14&quot; &gt;&lt;/div&gt;\n",
              "        \n",
              "&lt;/body&gt;\n",
              "&lt;script&gt;\n",
              "    \n",
              "    \n",
              "            var map_d18c1394c592c5453990a0aade33ab14 = L.map(\n",
              "                &quot;map_d18c1394c592c5453990a0aade33ab14&quot;,\n",
              "                {\n",
              "                    center: [37.4966, 126.957],\n",
              "                    crs: L.CRS.EPSG3857,\n",
              "                    zoom: 13,\n",
              "                    zoomControl: true,\n",
              "                    preferCanvas: false,\n",
              "                }\n",
              "            );\n",
              "\n",
              "            \n",
              "\n",
              "        \n",
              "    \n",
              "            var tile_layer_e92b957773b409e186ee285e82bf7fa3 = L.tileLayer(\n",
              "                &quot;https://{s}.tile.openstreetmap.org/{z}/{x}/{y}.png&quot;,\n",
              "                {&quot;attribution&quot;: &quot;Data by \\u0026copy; \\u003ca target=\\&quot;_blank\\&quot; href=\\&quot;http://openstreetmap.org\\&quot;\\u003eOpenStreetMap\\u003c/a\\u003e, under \\u003ca target=\\&quot;_blank\\&quot; href=\\&quot;http://www.openstreetmap.org/copyright\\&quot;\\u003eODbL\\u003c/a\\u003e.&quot;, &quot;detectRetina&quot;: false, &quot;maxNativeZoom&quot;: 18, &quot;maxZoom&quot;: 18, &quot;minZoom&quot;: 0, &quot;noWrap&quot;: false, &quot;opacity&quot;: 1, &quot;subdomains&quot;: &quot;abc&quot;, &quot;tms&quot;: false}\n",
              "            ).addTo(map_d18c1394c592c5453990a0aade33ab14);\n",
              "        \n",
              "&lt;/script&gt;\n",
              "&lt;/html&gt;\" style=\"position:absolute;width:100%;height:100%;left:0;top:0;border:none !important;\" allowfullscreen webkitallowfullscreen mozallowfullscreen></iframe></div></div>"
            ]
          },
          "metadata": {},
          "execution_count": 6
        }
      ]
    },
    {
      "cell_type": "code",
      "source": [
        "# for i in range(5): 01234(레인지가 이렇게 값을 갖고 있음.)   i의 공간에 레인지의 값이 들어가지면 안녕이 실행 i가 엔진 레인지가 연료\n",
        "#  print(\"안녕\")\n",
        "#안녕 5개 출력\n",
        "#range(5) >>> 01234\n",
        "\n",
        "#for i in \"숭실대학교\":\n",
        "# print(\"안녕\")\n",
        "\n",
        "#이것도 숭 실 대 학 교 하나씩먹이가 되서 총 5번 안녕이 실행됨.  =>반복문은 먹이가 없을 때까지 실행되는거 iter, 먹는거 이터"
      ],
      "metadata": {
        "id": "9MtgelvhNtSz"
      },
      "execution_count": null,
      "outputs": []
    },
    {
      "cell_type": "code",
      "source": [
        "for n,i in df.iterrows():            #변수가 2개인 이유 이터 로우(행) 특징때문에, 에러는 안나지만, 숫자와 문자를 동시에 가져옴. n에는 인덱스 /\n",
        "#갖고 오기 싫어도 인덱스번호를 가져옴. +공원명, 주소 etc.\n",
        "\t\tmk = folium.Marker([ i['위도'] , i['경도'] ] , tooltip= i['공원명'] )  #왜 오류가 나는가? => 오타임. 롱디튜드를 경도로 바꿔줌 => 이런거 시험에 냄.\n",
        "\t\tmk.add_to(map)"
      ],
      "metadata": {
        "id": "m4HMY7evPI5i"
      },
      "execution_count": null,
      "outputs": []
    },
    {
      "cell_type": "code",
      "source": [
        "map"
      ],
      "metadata": {
        "colab": {
          "base_uri": "https://localhost:8080/",
          "height": 866
        },
        "id": "cEUTrdXLQrcR",
        "outputId": "5424691d-dff3-4618-c896-abb6d71d0caa"
      },
      "execution_count": null,
      "outputs": [
        {
          "output_type": "execute_result",
          "data": {
            "text/plain": [
              "<folium.folium.Map at 0x7fab31f93940>"
            ],
            "text/html": [
              "<div style=\"width:100%;\"><div style=\"position:relative;width:100%;height:0;padding-bottom:60%;\"><span style=\"color:#565656\">Make this Notebook Trusted to load map: File -> Trust Notebook</span><iframe srcdoc=\"&lt;!DOCTYPE html&gt;\n",
              "&lt;html&gt;\n",
              "&lt;head&gt;\n",
              "    \n",
              "    &lt;meta http-equiv=&quot;content-type&quot; content=&quot;text/html; charset=UTF-8&quot; /&gt;\n",
              "    \n",
              "        &lt;script&gt;\n",
              "            L_NO_TOUCH = false;\n",
              "            L_DISABLE_3D = false;\n",
              "        &lt;/script&gt;\n",
              "    \n",
              "    &lt;style&gt;html, body {width: 100%;height: 100%;margin: 0;padding: 0;}&lt;/style&gt;\n",
              "    &lt;style&gt;#map {position:absolute;top:0;bottom:0;right:0;left:0;}&lt;/style&gt;\n",
              "    &lt;script src=&quot;https://cdn.jsdelivr.net/npm/leaflet@1.9.3/dist/leaflet.js&quot;&gt;&lt;/script&gt;\n",
              "    &lt;script src=&quot;https://code.jquery.com/jquery-1.12.4.min.js&quot;&gt;&lt;/script&gt;\n",
              "    &lt;script src=&quot;https://cdn.jsdelivr.net/npm/bootstrap@5.2.2/dist/js/bootstrap.bundle.min.js&quot;&gt;&lt;/script&gt;\n",
              "    &lt;script src=&quot;https://cdnjs.cloudflare.com/ajax/libs/Leaflet.awesome-markers/2.0.2/leaflet.awesome-markers.js&quot;&gt;&lt;/script&gt;\n",
              "    &lt;link rel=&quot;stylesheet&quot; href=&quot;https://cdn.jsdelivr.net/npm/leaflet@1.9.3/dist/leaflet.css&quot;/&gt;\n",
              "    &lt;link rel=&quot;stylesheet&quot; href=&quot;https://cdn.jsdelivr.net/npm/bootstrap@5.2.2/dist/css/bootstrap.min.css&quot;/&gt;\n",
              "    &lt;link rel=&quot;stylesheet&quot; href=&quot;https://netdna.bootstrapcdn.com/bootstrap/3.0.0/css/bootstrap.min.css&quot;/&gt;\n",
              "    &lt;link rel=&quot;stylesheet&quot; href=&quot;https://cdn.jsdelivr.net/npm/@fortawesome/fontawesome-free@6.2.0/css/all.min.css&quot;/&gt;\n",
              "    &lt;link rel=&quot;stylesheet&quot; href=&quot;https://cdnjs.cloudflare.com/ajax/libs/Leaflet.awesome-markers/2.0.2/leaflet.awesome-markers.css&quot;/&gt;\n",
              "    &lt;link rel=&quot;stylesheet&quot; href=&quot;https://cdn.jsdelivr.net/gh/python-visualization/folium/folium/templates/leaflet.awesome.rotate.min.css&quot;/&gt;\n",
              "    \n",
              "            &lt;meta name=&quot;viewport&quot; content=&quot;width=device-width,\n",
              "                initial-scale=1.0, maximum-scale=1.0, user-scalable=no&quot; /&gt;\n",
              "            &lt;style&gt;\n",
              "                #map_d18c1394c592c5453990a0aade33ab14 {\n",
              "                    position: relative;\n",
              "                    width: 100.0%;\n",
              "                    height: 100.0%;\n",
              "                    left: 0.0%;\n",
              "                    top: 0.0%;\n",
              "                }\n",
              "                .leaflet-container { font-size: 1rem; }\n",
              "            &lt;/style&gt;\n",
              "        \n",
              "&lt;/head&gt;\n",
              "&lt;body&gt;\n",
              "    \n",
              "    \n",
              "            &lt;div class=&quot;folium-map&quot; id=&quot;map_d18c1394c592c5453990a0aade33ab14&quot; &gt;&lt;/div&gt;\n",
              "        \n",
              "&lt;/body&gt;\n",
              "&lt;script&gt;\n",
              "    \n",
              "    \n",
              "            var map_d18c1394c592c5453990a0aade33ab14 = L.map(\n",
              "                &quot;map_d18c1394c592c5453990a0aade33ab14&quot;,\n",
              "                {\n",
              "                    center: [37.4966, 126.957],\n",
              "                    crs: L.CRS.EPSG3857,\n",
              "                    zoom: 13,\n",
              "                    zoomControl: true,\n",
              "                    preferCanvas: false,\n",
              "                }\n",
              "            );\n",
              "\n",
              "            \n",
              "\n",
              "        \n",
              "    \n",
              "            var tile_layer_e92b957773b409e186ee285e82bf7fa3 = L.tileLayer(\n",
              "                &quot;https://{s}.tile.openstreetmap.org/{z}/{x}/{y}.png&quot;,\n",
              "                {&quot;attribution&quot;: &quot;Data by \\u0026copy; \\u003ca target=\\&quot;_blank\\&quot; href=\\&quot;http://openstreetmap.org\\&quot;\\u003eOpenStreetMap\\u003c/a\\u003e, under \\u003ca target=\\&quot;_blank\\&quot; href=\\&quot;http://www.openstreetmap.org/copyright\\&quot;\\u003eODbL\\u003c/a\\u003e.&quot;, &quot;detectRetina&quot;: false, &quot;maxNativeZoom&quot;: 18, &quot;maxZoom&quot;: 18, &quot;minZoom&quot;: 0, &quot;noWrap&quot;: false, &quot;opacity&quot;: 1, &quot;subdomains&quot;: &quot;abc&quot;, &quot;tms&quot;: false}\n",
              "            ).addTo(map_d18c1394c592c5453990a0aade33ab14);\n",
              "        \n",
              "    \n",
              "            var marker_a9916880ddb7c4b1eb6292a6f4698277 = L.marker(\n",
              "                [37.5495886, 127.081578],\n",
              "                {}\n",
              "            ).addTo(map_d18c1394c592c5453990a0aade33ab14);\n",
              "        \n",
              "    \n",
              "            marker_a9916880ddb7c4b1eb6292a6f4698277.bindTooltip(\n",
              "                `&lt;div&gt;\n",
              "                     어린이대공원\n",
              "                 &lt;/div&gt;`,\n",
              "                {&quot;sticky&quot;: true}\n",
              "            );\n",
              "        \n",
              "    \n",
              "            var marker_e4793ac56bcbf2ede5cec0e519782972 = L.marker(\n",
              "                [37.5632716, 126.8926785],\n",
              "                {}\n",
              "            ).addTo(map_d18c1394c592c5453990a0aade33ab14);\n",
              "        \n",
              "    \n",
              "            marker_e4793ac56bcbf2ede5cec0e519782972.bindTooltip(\n",
              "                `&lt;div&gt;\n",
              "                     월드컵공원\n",
              "                 &lt;/div&gt;`,\n",
              "                {&quot;sticky&quot;: true}\n",
              "            );\n",
              "        \n",
              "    \n",
              "            var marker_042c9982703d95e500bc436719c5e72d = L.marker(\n",
              "                [37.4926778, 126.919139],\n",
              "                {}\n",
              "            ).addTo(map_d18c1394c592c5453990a0aade33ab14);\n",
              "        \n",
              "    \n",
              "            marker_042c9982703d95e500bc436719c5e72d.bindTooltip(\n",
              "                `&lt;div&gt;\n",
              "                     보라매공원\n",
              "                 &lt;/div&gt;`,\n",
              "                {&quot;sticky&quot;: true}\n",
              "            );\n",
              "        \n",
              "    \n",
              "            var marker_5e34cb4e3d607125cca55432df166276 = L.marker(\n",
              "                [37.4710677, 127.035758],\n",
              "                {}\n",
              "            ).addTo(map_d18c1394c592c5453990a0aade33ab14);\n",
              "        \n",
              "    \n",
              "            marker_5e34cb4e3d607125cca55432df166276.bindTooltip(\n",
              "                `&lt;div&gt;\n",
              "                     매헌시민의숲\n",
              "                 &lt;/div&gt;`,\n",
              "                {&quot;sticky&quot;: true}\n",
              "            );\n",
              "        \n",
              "    \n",
              "            var marker_3cfbfd08f6b0d2865676860c065174ef = L.marker(\n",
              "                [37.6463347, 127.0408015],\n",
              "                {}\n",
              "            ).addTo(map_d18c1394c592c5453990a0aade33ab14);\n",
              "        \n",
              "    \n",
              "            marker_3cfbfd08f6b0d2865676860c065174ef.bindTooltip(\n",
              "                `&lt;div&gt;\n",
              "                     초안산근린공원\n",
              "                 &lt;/div&gt;`,\n",
              "                {&quot;sticky&quot;: true}\n",
              "            );\n",
              "        \n",
              "    \n",
              "            var marker_fd625b2a555f141db44c6882f266aa9a = L.marker(\n",
              "                [37.4966651, 127.1005419],\n",
              "                {}\n",
              "            ).addTo(map_d18c1394c592c5453990a0aade33ab14);\n",
              "        \n",
              "    \n",
              "            marker_fd625b2a555f141db44c6882f266aa9a.bindTooltip(\n",
              "                `&lt;div&gt;\n",
              "                     송파구 반려견 놀이터\n",
              "                 &lt;/div&gt;`,\n",
              "                {&quot;sticky&quot;: true}\n",
              "            );\n",
              "        \n",
              "    \n",
              "            var marker_68d5abe6f90b287e493e21b0d6cc834b = L.marker(\n",
              "                [37.5211564, 126.8805509],\n",
              "                {}\n",
              "            ).addTo(map_d18c1394c592c5453990a0aade33ab14);\n",
              "        \n",
              "    \n",
              "            marker_68d5abe6f90b287e493e21b0d6cc834b.bindTooltip(\n",
              "                `&lt;div&gt;\n",
              "                     영등포구 반려견 놀이터\n",
              "                 &lt;/div&gt;`,\n",
              "                {&quot;sticky&quot;: true}\n",
              "            );\n",
              "        \n",
              "    \n",
              "            var marker_d7919d076212191562d6e21e7b4c017d = L.marker(\n",
              "                [37.5071197, 126.8744887],\n",
              "                {}\n",
              "            ).addTo(map_d18c1394c592c5453990a0aade33ab14);\n",
              "        \n",
              "    \n",
              "            marker_d7919d076212191562d6e21e7b4c017d.bindTooltip(\n",
              "                `&lt;div&gt;\n",
              "                     구로구 반려견 놀이터\n",
              "                 &lt;/div&gt;`,\n",
              "                {&quot;sticky&quot;: true}\n",
              "            );\n",
              "        \n",
              "    \n",
              "            var marker_b1283afba22f69e2038a3149af1ff67a = L.marker(\n",
              "                [37.579789, 127.0757689],\n",
              "                {}\n",
              "            ).addTo(map_d18c1394c592c5453990a0aade33ab14);\n",
              "        \n",
              "    \n",
              "            marker_b1283afba22f69e2038a3149af1ff67a.bindTooltip(\n",
              "                `&lt;div&gt;\n",
              "                     동대문구 반려견 놀이터\n",
              "                 &lt;/div&gt;`,\n",
              "                {&quot;sticky&quot;: true}\n",
              "            );\n",
              "        \n",
              "    \n",
              "            var marker_bd4591abe712b2f86891eb58bc54bf0c = L.marker(\n",
              "                [37.5398958, 126.9416709],\n",
              "                {}\n",
              "            ).addTo(map_d18c1394c592c5453990a0aade33ab14);\n",
              "        \n",
              "    \n",
              "            marker_bd4591abe712b2f86891eb58bc54bf0c.bindTooltip(\n",
              "                `&lt;div&gt;\n",
              "                     마포구 반려견놀이터 (댕댕이 놀이터)\n",
              "                 &lt;/div&gt;`,\n",
              "                {&quot;sticky&quot;: true}\n",
              "            );\n",
              "        \n",
              "    \n",
              "            var marker_6ac919939e94bd6b89b5702a3a54e314 = L.marker(\n",
              "                [37.6217709, 127.0411741],\n",
              "                {}\n",
              "            ).addTo(map_d18c1394c592c5453990a0aade33ab14);\n",
              "        \n",
              "    \n",
              "            marker_6ac919939e94bd6b89b5702a3a54e314.bindTooltip(\n",
              "                `&lt;div&gt;\n",
              "                     북서울꿈의숲\n",
              "                 &lt;/div&gt;`,\n",
              "                {&quot;sticky&quot;: true}\n",
              "            );\n",
              "        \n",
              "&lt;/script&gt;\n",
              "&lt;/html&gt;\" style=\"position:absolute;width:100%;height:100%;left:0;top:0;border:none !important;\" allowfullscreen webkitallowfullscreen mozallowfullscreen></iframe></div></div>"
            ]
          },
          "metadata": {},
          "execution_count": 9
        }
      ]
    }
  ]
}